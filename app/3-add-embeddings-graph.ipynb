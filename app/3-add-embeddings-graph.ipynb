{
 "cells": [
  {
   "cell_type": "code",
   "execution_count": 20,
   "id": "84340caa",
   "metadata": {},
   "outputs": [],
   "source": [
    "from neo4j import GraphDatabase\n",
    "from datasets import load_dataset\n",
    "from tqdm.auto import tqdm\n",
    "\n",
    "from utils.env_loader import load_project_env\n",
    "import os"
   ]
  },
  {
   "cell_type": "code",
   "execution_count": 21,
   "id": "01d93cf1",
   "metadata": {},
   "outputs": [],
   "source": [
    "load_project_env()"
   ]
  },
  {
   "cell_type": "code",
   "execution_count": 22,
   "id": "eaa88783",
   "metadata": {},
   "outputs": [],
   "source": [
    "URI = \"neo4j://localhost:7687\"\n",
    "AUTH = (\"neo4j\", os.getenv(\"NEO4J_PASSWORD\"))\n",
    "SCHEME_ID = \"CPC\""
   ]
  },
  {
   "cell_type": "code",
   "execution_count": 23,
   "id": "dfc56a4e",
   "metadata": {},
   "outputs": [],
   "source": [
    "driver = GraphDatabase.driver(URI, auth=AUTH)"
   ]
  },
  {
   "cell_type": "code",
   "execution_count": 7,
   "id": "d9625a67",
   "metadata": {},
   "outputs": [],
   "source": [
    "UPSERT_CONCEPT = \"\"\"\n",
    "MERGE (c:Concept {schemeId:$schemeId, conceptId:$conceptId})\n",
    "  ON CREATE SET c.title = $title,\n",
    "                c.fullTitle = $fullTitle,\n",
    "                c.createdAt = datetime(),\n",
    "                c.fullTitleEmbedding = $embedding,\n",
    "                c.pathKeys = $pathKeys\n",
    "  ON MATCH  SET c.title = coalesce($title, c.title),\n",
    "                c.fullTitle = coalesce($fullTitle, c.fullTitle),\n",
    "                c.updatedAt = datetime(),\n",
    "                c.fullTitleEmbedding = coalesce($embedding, c.fullTitleEmbedding),\n",
    "                c.pathKeys = coalesce($pathKeys, c.pathKeys)\n",
    "WITH c\n",
    "MATCH (s:Scheme {schemeId:$schemeId})\n",
    "MERGE (s)-[:HAS_CONCEPT]->(c)\n",
    "\"\"\""
   ]
  },
  {
   "cell_type": "code",
   "execution_count": 8,
   "id": "52c44173",
   "metadata": {},
   "outputs": [],
   "source": [
    "def iter_rows(streaming: bool):\n",
    "    return load_dataset(\"mhurhangee/cpc-classifications-embeddings\", split=\"train\", streaming=streaming)\n"
   ]
  },
  {
   "cell_type": "code",
   "execution_count": 15,
   "id": "ce316a5b",
   "metadata": {},
   "outputs": [],
   "source": [
    "def update_nodes():\n",
    "    \"\"\"\n",
    "    Updates embeddings (and other fields if provided) for Concept nodes.\n",
    "    \"\"\"\n",
    "    ds_iter = iter_rows(True)\n",
    "\n",
    "    with driver.session() as s, tqdm(ds_iter, desc=\"Updating nodes with embeddings\", unit=\"rec\") as pbar:\n",
    "        for rec in pbar:\n",
    "            s.run(\n",
    "                UPSERT_CONCEPT,\n",
    "                schemeId=SCHEME_ID,\n",
    "                conceptId=rec[\"key\"],\n",
    "                title=rec.get(\"title\"),\n",
    "                fullTitle=rec.get(\"fullTitle\"),\n",
    "                pathKeys=[tp[\"key\"] for tp in (rec.get(\"treePath\") or [])],\n",
    "                embedding=rec.get(\"fullTitleEmbedding\")\n",
    "            )"
   ]
  },
  {
   "cell_type": "code",
   "execution_count": 16,
   "id": "78624b17",
   "metadata": {},
   "outputs": [
    {
     "name": "stderr",
     "output_type": "stream",
     "text": [
      "Updating nodes with embeddings: 98220rec [09:31, 181.36rec/s]'(ReadTimeoutError(\"HTTPSConnectionPool(host='cas-bridge.xethub.hf.co', port=443): Read timed out. (read timeout=10)\"), '(Request ID: fe4b2b0a-11a8-4f9a-b3d2-f2634d574982)')' thrown while requesting GET https://huggingface.co/datasets/mhurhangee/cpc-classifications-embeddings/resolve/03a8c9005d04d208295702df63eed9e7ce72ce25/data/train-00003-of-00008.parquet\n",
      "Retrying in 1s [Retry 1/5].\n",
      "Updating nodes with embeddings: 261960rec [25:11, 173.27rec/s]\n"
     ]
    }
   ],
   "source": [
    "update_nodes()"
   ]
  },
  {
   "cell_type": "code",
   "execution_count": null,
   "id": "e1fe8005",
   "metadata": {},
   "outputs": [
    {
     "name": "stdout",
     "output_type": "stream",
     "text": [
      "[INFO] Index state: POPULATING\n",
      "[INFO] Index state: ONLINE\n",
      "[OK] Vector index 'cpc_fulltitle_embedding_idx' is ONLINE and ready to use.\n"
     ]
    }
   ],
   "source": [
    "import time\n",
    "\n",
    "INDEX_NAME = \"concept_fulltitle_embedding_idx\"\n",
    "\n",
    "# Create index\n",
    "with driver.session() as s:\n",
    "    s.run(f\"\"\"\n",
    "    CREATE VECTOR INDEX {INDEX_NAME} IF NOT EXISTS\n",
    "    FOR (c:CPC) ON (c.fullTitleEmbedding)\n",
    "    OPTIONS {{ indexConfig: {{ `vector.dimensions`: 1536, `vector.similarity_function`: \"cosine\" }} }}\n",
    "    \"\"\")\n"
   ]
  },
  {
   "cell_type": "code",
   "execution_count": 24,
   "id": "a5af2850",
   "metadata": {},
   "outputs": [
    {
     "name": "stdout",
     "output_type": "stream",
     "text": [
      "[INFO] Index state: ONLINE\n",
      "[OK] Vector index 'cpc_fulltitle_embedding_idx' is ONLINE and ready to use.\n"
     ]
    }
   ],
   "source": [
    "\n",
    "# Poll until ONLINE\n",
    "while True:\n",
    "    with driver.session() as s:\n",
    "        res = s.run(f\"\"\"\n",
    "        SHOW INDEXES YIELD name, state\n",
    "        WHERE name = '{INDEX_NAME}'\n",
    "        RETURN state\n",
    "        \"\"\").single()\n",
    "        state = res[\"state\"] if res else None\n",
    "\n",
    "    print(f\"[INFO] Index state: {state}\")\n",
    "    if state == \"ONLINE\":\n",
    "        break\n",
    "\n",
    "    time.sleep(5)  # wait 5 seconds before checking again\n",
    "\n",
    "print(f\"[OK] Vector index '{INDEX_NAME}' is ONLINE and ready to use.\")\n"
   ]
  }
 ],
 "metadata": {
  "kernelspec": {
   "display_name": "Python (cpc)",
   "language": "python",
   "name": "cpc"
  },
  "language_info": {
   "codemirror_mode": {
    "name": "ipython",
    "version": 3
   },
   "file_extension": ".py",
   "mimetype": "text/x-python",
   "name": "python",
   "nbconvert_exporter": "python",
   "pygments_lexer": "ipython3",
   "version": "3.12.3"
  }
 },
 "nbformat": 4,
 "nbformat_minor": 5
}
